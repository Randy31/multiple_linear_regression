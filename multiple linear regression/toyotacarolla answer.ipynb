{
 "cells": [
  {
   "cell_type": "code",
   "execution_count": 18,
   "id": "74f0a2d1",
   "metadata": {},
   "outputs": [],
   "source": [
    "import pandas as pd\n",
    "import numpy as np\n",
    "import matplotlib.pyplot as plt\n",
    "import seaborn as sns\n",
    "from sklearn.preprocessing import StandardScaler\n",
    "from sklearn.model_selection import train_test_split\n",
    "from sklearn.linear_model import LinearRegression\n",
    "from sklearn.metrics import r2_score"
   ]
  },
  {
   "cell_type": "code",
   "execution_count": 24,
   "id": "65f385da",
   "metadata": {},
   "outputs": [],
   "source": [
    "df = pd.read_csv('ToyotaCorolla.csv', encoding='latin1')"
   ]
  },
  {
   "cell_type": "code",
   "execution_count": 25,
   "id": "da4f0161",
   "metadata": {},
   "outputs": [
    {
     "data": {
      "text/html": [
       "<div>\n",
       "<style scoped>\n",
       "    .dataframe tbody tr th:only-of-type {\n",
       "        vertical-align: middle;\n",
       "    }\n",
       "\n",
       "    .dataframe tbody tr th {\n",
       "        vertical-align: top;\n",
       "    }\n",
       "\n",
       "    .dataframe thead th {\n",
       "        text-align: right;\n",
       "    }\n",
       "</style>\n",
       "<table border=\"1\" class=\"dataframe\">\n",
       "  <thead>\n",
       "    <tr style=\"text-align: right;\">\n",
       "      <th></th>\n",
       "      <th>Id</th>\n",
       "      <th>Model</th>\n",
       "      <th>Price</th>\n",
       "      <th>Age_08_04</th>\n",
       "      <th>Mfg_Month</th>\n",
       "      <th>Mfg_Year</th>\n",
       "      <th>KM</th>\n",
       "      <th>Fuel_Type</th>\n",
       "      <th>HP</th>\n",
       "      <th>Met_Color</th>\n",
       "      <th>...</th>\n",
       "      <th>Central_Lock</th>\n",
       "      <th>Powered_Windows</th>\n",
       "      <th>Power_Steering</th>\n",
       "      <th>Radio</th>\n",
       "      <th>Mistlamps</th>\n",
       "      <th>Sport_Model</th>\n",
       "      <th>Backseat_Divider</th>\n",
       "      <th>Metallic_Rim</th>\n",
       "      <th>Radio_cassette</th>\n",
       "      <th>Tow_Bar</th>\n",
       "    </tr>\n",
       "  </thead>\n",
       "  <tbody>\n",
       "    <tr>\n",
       "      <th>0</th>\n",
       "      <td>1</td>\n",
       "      <td>TOYOTA Corolla 2.0 D4D HATCHB TERRA 2/3-Doors</td>\n",
       "      <td>13500</td>\n",
       "      <td>23</td>\n",
       "      <td>10</td>\n",
       "      <td>2002</td>\n",
       "      <td>46986</td>\n",
       "      <td>Diesel</td>\n",
       "      <td>90</td>\n",
       "      <td>1</td>\n",
       "      <td>...</td>\n",
       "      <td>1</td>\n",
       "      <td>1</td>\n",
       "      <td>1</td>\n",
       "      <td>0</td>\n",
       "      <td>0</td>\n",
       "      <td>0</td>\n",
       "      <td>1</td>\n",
       "      <td>0</td>\n",
       "      <td>0</td>\n",
       "      <td>0</td>\n",
       "    </tr>\n",
       "    <tr>\n",
       "      <th>1</th>\n",
       "      <td>2</td>\n",
       "      <td>TOYOTA Corolla 2.0 D4D HATCHB TERRA 2/3-Doors</td>\n",
       "      <td>13750</td>\n",
       "      <td>23</td>\n",
       "      <td>10</td>\n",
       "      <td>2002</td>\n",
       "      <td>72937</td>\n",
       "      <td>Diesel</td>\n",
       "      <td>90</td>\n",
       "      <td>1</td>\n",
       "      <td>...</td>\n",
       "      <td>1</td>\n",
       "      <td>0</td>\n",
       "      <td>1</td>\n",
       "      <td>0</td>\n",
       "      <td>0</td>\n",
       "      <td>0</td>\n",
       "      <td>1</td>\n",
       "      <td>0</td>\n",
       "      <td>0</td>\n",
       "      <td>0</td>\n",
       "    </tr>\n",
       "    <tr>\n",
       "      <th>2</th>\n",
       "      <td>3</td>\n",
       "      <td>TOYOTA Corolla 2.0 D4D HATCHB TERRA 2/3-Doors</td>\n",
       "      <td>13950</td>\n",
       "      <td>24</td>\n",
       "      <td>9</td>\n",
       "      <td>2002</td>\n",
       "      <td>41711</td>\n",
       "      <td>Diesel</td>\n",
       "      <td>90</td>\n",
       "      <td>1</td>\n",
       "      <td>...</td>\n",
       "      <td>0</td>\n",
       "      <td>0</td>\n",
       "      <td>1</td>\n",
       "      <td>0</td>\n",
       "      <td>0</td>\n",
       "      <td>0</td>\n",
       "      <td>1</td>\n",
       "      <td>0</td>\n",
       "      <td>0</td>\n",
       "      <td>0</td>\n",
       "    </tr>\n",
       "    <tr>\n",
       "      <th>3</th>\n",
       "      <td>4</td>\n",
       "      <td>TOYOTA Corolla 2.0 D4D HATCHB TERRA 2/3-Doors</td>\n",
       "      <td>14950</td>\n",
       "      <td>26</td>\n",
       "      <td>7</td>\n",
       "      <td>2002</td>\n",
       "      <td>48000</td>\n",
       "      <td>Diesel</td>\n",
       "      <td>90</td>\n",
       "      <td>0</td>\n",
       "      <td>...</td>\n",
       "      <td>0</td>\n",
       "      <td>0</td>\n",
       "      <td>1</td>\n",
       "      <td>0</td>\n",
       "      <td>0</td>\n",
       "      <td>0</td>\n",
       "      <td>1</td>\n",
       "      <td>0</td>\n",
       "      <td>0</td>\n",
       "      <td>0</td>\n",
       "    </tr>\n",
       "    <tr>\n",
       "      <th>4</th>\n",
       "      <td>5</td>\n",
       "      <td>TOYOTA Corolla 2.0 D4D HATCHB SOL 2/3-Doors</td>\n",
       "      <td>13750</td>\n",
       "      <td>30</td>\n",
       "      <td>3</td>\n",
       "      <td>2002</td>\n",
       "      <td>38500</td>\n",
       "      <td>Diesel</td>\n",
       "      <td>90</td>\n",
       "      <td>0</td>\n",
       "      <td>...</td>\n",
       "      <td>1</td>\n",
       "      <td>1</td>\n",
       "      <td>1</td>\n",
       "      <td>0</td>\n",
       "      <td>1</td>\n",
       "      <td>0</td>\n",
       "      <td>1</td>\n",
       "      <td>0</td>\n",
       "      <td>0</td>\n",
       "      <td>0</td>\n",
       "    </tr>\n",
       "  </tbody>\n",
       "</table>\n",
       "<p>5 rows × 38 columns</p>\n",
       "</div>"
      ],
      "text/plain": [
       "   Id                                           Model  Price  Age_08_04  \\\n",
       "0   1   TOYOTA Corolla 2.0 D4D HATCHB TERRA 2/3-Doors  13500         23   \n",
       "1   2   TOYOTA Corolla 2.0 D4D HATCHB TERRA 2/3-Doors  13750         23   \n",
       "2   3   TOYOTA Corolla 2.0 D4D HATCHB TERRA 2/3-Doors  13950         24   \n",
       "3   4   TOYOTA Corolla 2.0 D4D HATCHB TERRA 2/3-Doors  14950         26   \n",
       "4   5     TOYOTA Corolla 2.0 D4D HATCHB SOL 2/3-Doors  13750         30   \n",
       "\n",
       "   Mfg_Month  Mfg_Year     KM Fuel_Type  HP  Met_Color  ... Central_Lock  \\\n",
       "0         10      2002  46986    Diesel  90          1  ...            1   \n",
       "1         10      2002  72937    Diesel  90          1  ...            1   \n",
       "2          9      2002  41711    Diesel  90          1  ...            0   \n",
       "3          7      2002  48000    Diesel  90          0  ...            0   \n",
       "4          3      2002  38500    Diesel  90          0  ...            1   \n",
       "\n",
       "   Powered_Windows  Power_Steering  Radio  Mistlamps  Sport_Model  \\\n",
       "0                1               1      0          0            0   \n",
       "1                0               1      0          0            0   \n",
       "2                0               1      0          0            0   \n",
       "3                0               1      0          0            0   \n",
       "4                1               1      0          1            0   \n",
       "\n",
       "   Backseat_Divider  Metallic_Rim  Radio_cassette  Tow_Bar  \n",
       "0                 1             0               0        0  \n",
       "1                 1             0               0        0  \n",
       "2                 1             0               0        0  \n",
       "3                 1             0               0        0  \n",
       "4                 1             0               0        0  \n",
       "\n",
       "[5 rows x 38 columns]"
      ]
     },
     "execution_count": 25,
     "metadata": {},
     "output_type": "execute_result"
    }
   ],
   "source": [
    "df.head()"
   ]
  },
  {
   "cell_type": "code",
   "execution_count": 27,
   "id": "0f2fc062",
   "metadata": {},
   "outputs": [],
   "source": [
    "data = df[[\"Price\",\"Age_08_04\",\"KM\",\"HP\",\"cc\",\"Doors\",\"Gears\",\"Quarterly_Tax\",\"Weight\"]]"
   ]
  },
  {
   "cell_type": "code",
   "execution_count": 29,
   "id": "5003af1c",
   "metadata": {},
   "outputs": [
    {
     "data": {
      "text/html": [
       "<div>\n",
       "<style scoped>\n",
       "    .dataframe tbody tr th:only-of-type {\n",
       "        vertical-align: middle;\n",
       "    }\n",
       "\n",
       "    .dataframe tbody tr th {\n",
       "        vertical-align: top;\n",
       "    }\n",
       "\n",
       "    .dataframe thead th {\n",
       "        text-align: right;\n",
       "    }\n",
       "</style>\n",
       "<table border=\"1\" class=\"dataframe\">\n",
       "  <thead>\n",
       "    <tr style=\"text-align: right;\">\n",
       "      <th></th>\n",
       "      <th>Price</th>\n",
       "      <th>Age_08_04</th>\n",
       "      <th>KM</th>\n",
       "      <th>HP</th>\n",
       "      <th>cc</th>\n",
       "      <th>Doors</th>\n",
       "      <th>Gears</th>\n",
       "      <th>Quarterly_Tax</th>\n",
       "      <th>Weight</th>\n",
       "    </tr>\n",
       "  </thead>\n",
       "  <tbody>\n",
       "    <tr>\n",
       "      <th>0</th>\n",
       "      <td>13500</td>\n",
       "      <td>23</td>\n",
       "      <td>46986</td>\n",
       "      <td>90</td>\n",
       "      <td>2000</td>\n",
       "      <td>3</td>\n",
       "      <td>5</td>\n",
       "      <td>210</td>\n",
       "      <td>1165</td>\n",
       "    </tr>\n",
       "    <tr>\n",
       "      <th>1</th>\n",
       "      <td>13750</td>\n",
       "      <td>23</td>\n",
       "      <td>72937</td>\n",
       "      <td>90</td>\n",
       "      <td>2000</td>\n",
       "      <td>3</td>\n",
       "      <td>5</td>\n",
       "      <td>210</td>\n",
       "      <td>1165</td>\n",
       "    </tr>\n",
       "    <tr>\n",
       "      <th>2</th>\n",
       "      <td>13950</td>\n",
       "      <td>24</td>\n",
       "      <td>41711</td>\n",
       "      <td>90</td>\n",
       "      <td>2000</td>\n",
       "      <td>3</td>\n",
       "      <td>5</td>\n",
       "      <td>210</td>\n",
       "      <td>1165</td>\n",
       "    </tr>\n",
       "    <tr>\n",
       "      <th>3</th>\n",
       "      <td>14950</td>\n",
       "      <td>26</td>\n",
       "      <td>48000</td>\n",
       "      <td>90</td>\n",
       "      <td>2000</td>\n",
       "      <td>3</td>\n",
       "      <td>5</td>\n",
       "      <td>210</td>\n",
       "      <td>1165</td>\n",
       "    </tr>\n",
       "    <tr>\n",
       "      <th>4</th>\n",
       "      <td>13750</td>\n",
       "      <td>30</td>\n",
       "      <td>38500</td>\n",
       "      <td>90</td>\n",
       "      <td>2000</td>\n",
       "      <td>3</td>\n",
       "      <td>5</td>\n",
       "      <td>210</td>\n",
       "      <td>1170</td>\n",
       "    </tr>\n",
       "  </tbody>\n",
       "</table>\n",
       "</div>"
      ],
      "text/plain": [
       "   Price  Age_08_04     KM  HP    cc  Doors  Gears  Quarterly_Tax  Weight\n",
       "0  13500         23  46986  90  2000      3      5            210    1165\n",
       "1  13750         23  72937  90  2000      3      5            210    1165\n",
       "2  13950         24  41711  90  2000      3      5            210    1165\n",
       "3  14950         26  48000  90  2000      3      5            210    1165\n",
       "4  13750         30  38500  90  2000      3      5            210    1170"
      ]
     },
     "execution_count": 29,
     "metadata": {},
     "output_type": "execute_result"
    }
   ],
   "source": [
    "data.head()"
   ]
  },
  {
   "cell_type": "code",
   "execution_count": 30,
   "id": "85f1b815",
   "metadata": {},
   "outputs": [
    {
     "name": "stdout",
     "output_type": "stream",
     "text": [
      "<class 'pandas.core.frame.DataFrame'>\n",
      "RangeIndex: 1436 entries, 0 to 1435\n",
      "Data columns (total 9 columns):\n",
      " #   Column         Non-Null Count  Dtype\n",
      "---  ------         --------------  -----\n",
      " 0   Price          1436 non-null   int64\n",
      " 1   Age_08_04      1436 non-null   int64\n",
      " 2   KM             1436 non-null   int64\n",
      " 3   HP             1436 non-null   int64\n",
      " 4   cc             1436 non-null   int64\n",
      " 5   Doors          1436 non-null   int64\n",
      " 6   Gears          1436 non-null   int64\n",
      " 7   Quarterly_Tax  1436 non-null   int64\n",
      " 8   Weight         1436 non-null   int64\n",
      "dtypes: int64(9)\n",
      "memory usage: 101.1 KB\n"
     ]
    }
   ],
   "source": [
    "data.info()"
   ]
  },
  {
   "cell_type": "code",
   "execution_count": 31,
   "id": "01ba0884",
   "metadata": {},
   "outputs": [
    {
     "data": {
      "text/plain": [
       "Price            0\n",
       "Age_08_04        0\n",
       "KM               0\n",
       "HP               0\n",
       "cc               0\n",
       "Doors            0\n",
       "Gears            0\n",
       "Quarterly_Tax    0\n",
       "Weight           0\n",
       "dtype: int64"
      ]
     },
     "execution_count": 31,
     "metadata": {},
     "output_type": "execute_result"
    }
   ],
   "source": [
    "data.isnull().sum()"
   ]
  },
  {
   "cell_type": "code",
   "execution_count": 32,
   "id": "2eb82a98",
   "metadata": {},
   "outputs": [
    {
     "data": {
      "text/html": [
       "<div>\n",
       "<style scoped>\n",
       "    .dataframe tbody tr th:only-of-type {\n",
       "        vertical-align: middle;\n",
       "    }\n",
       "\n",
       "    .dataframe tbody tr th {\n",
       "        vertical-align: top;\n",
       "    }\n",
       "\n",
       "    .dataframe thead th {\n",
       "        text-align: right;\n",
       "    }\n",
       "</style>\n",
       "<table border=\"1\" class=\"dataframe\">\n",
       "  <thead>\n",
       "    <tr style=\"text-align: right;\">\n",
       "      <th></th>\n",
       "      <th>Price</th>\n",
       "      <th>Age_08_04</th>\n",
       "      <th>KM</th>\n",
       "      <th>HP</th>\n",
       "      <th>cc</th>\n",
       "      <th>Doors</th>\n",
       "      <th>Gears</th>\n",
       "      <th>Quarterly_Tax</th>\n",
       "      <th>Weight</th>\n",
       "    </tr>\n",
       "  </thead>\n",
       "  <tbody>\n",
       "    <tr>\n",
       "      <th>count</th>\n",
       "      <td>1436.000000</td>\n",
       "      <td>1436.000000</td>\n",
       "      <td>1436.000000</td>\n",
       "      <td>1436.000000</td>\n",
       "      <td>1436.00000</td>\n",
       "      <td>1436.000000</td>\n",
       "      <td>1436.000000</td>\n",
       "      <td>1436.000000</td>\n",
       "      <td>1436.00000</td>\n",
       "    </tr>\n",
       "    <tr>\n",
       "      <th>mean</th>\n",
       "      <td>10730.824513</td>\n",
       "      <td>55.947075</td>\n",
       "      <td>68533.259749</td>\n",
       "      <td>101.502089</td>\n",
       "      <td>1576.85585</td>\n",
       "      <td>4.033426</td>\n",
       "      <td>5.026462</td>\n",
       "      <td>87.122563</td>\n",
       "      <td>1072.45961</td>\n",
       "    </tr>\n",
       "    <tr>\n",
       "      <th>std</th>\n",
       "      <td>3626.964585</td>\n",
       "      <td>18.599988</td>\n",
       "      <td>37506.448872</td>\n",
       "      <td>14.981080</td>\n",
       "      <td>424.38677</td>\n",
       "      <td>0.952677</td>\n",
       "      <td>0.188510</td>\n",
       "      <td>41.128611</td>\n",
       "      <td>52.64112</td>\n",
       "    </tr>\n",
       "    <tr>\n",
       "      <th>min</th>\n",
       "      <td>4350.000000</td>\n",
       "      <td>1.000000</td>\n",
       "      <td>1.000000</td>\n",
       "      <td>69.000000</td>\n",
       "      <td>1300.00000</td>\n",
       "      <td>2.000000</td>\n",
       "      <td>3.000000</td>\n",
       "      <td>19.000000</td>\n",
       "      <td>1000.00000</td>\n",
       "    </tr>\n",
       "    <tr>\n",
       "      <th>25%</th>\n",
       "      <td>8450.000000</td>\n",
       "      <td>44.000000</td>\n",
       "      <td>43000.000000</td>\n",
       "      <td>90.000000</td>\n",
       "      <td>1400.00000</td>\n",
       "      <td>3.000000</td>\n",
       "      <td>5.000000</td>\n",
       "      <td>69.000000</td>\n",
       "      <td>1040.00000</td>\n",
       "    </tr>\n",
       "    <tr>\n",
       "      <th>50%</th>\n",
       "      <td>9900.000000</td>\n",
       "      <td>61.000000</td>\n",
       "      <td>63389.500000</td>\n",
       "      <td>110.000000</td>\n",
       "      <td>1600.00000</td>\n",
       "      <td>4.000000</td>\n",
       "      <td>5.000000</td>\n",
       "      <td>85.000000</td>\n",
       "      <td>1070.00000</td>\n",
       "    </tr>\n",
       "    <tr>\n",
       "      <th>75%</th>\n",
       "      <td>11950.000000</td>\n",
       "      <td>70.000000</td>\n",
       "      <td>87020.750000</td>\n",
       "      <td>110.000000</td>\n",
       "      <td>1600.00000</td>\n",
       "      <td>5.000000</td>\n",
       "      <td>5.000000</td>\n",
       "      <td>85.000000</td>\n",
       "      <td>1085.00000</td>\n",
       "    </tr>\n",
       "    <tr>\n",
       "      <th>max</th>\n",
       "      <td>32500.000000</td>\n",
       "      <td>80.000000</td>\n",
       "      <td>243000.000000</td>\n",
       "      <td>192.000000</td>\n",
       "      <td>16000.00000</td>\n",
       "      <td>5.000000</td>\n",
       "      <td>6.000000</td>\n",
       "      <td>283.000000</td>\n",
       "      <td>1615.00000</td>\n",
       "    </tr>\n",
       "  </tbody>\n",
       "</table>\n",
       "</div>"
      ],
      "text/plain": [
       "              Price    Age_08_04             KM           HP           cc  \\\n",
       "count   1436.000000  1436.000000    1436.000000  1436.000000   1436.00000   \n",
       "mean   10730.824513    55.947075   68533.259749   101.502089   1576.85585   \n",
       "std     3626.964585    18.599988   37506.448872    14.981080    424.38677   \n",
       "min     4350.000000     1.000000       1.000000    69.000000   1300.00000   \n",
       "25%     8450.000000    44.000000   43000.000000    90.000000   1400.00000   \n",
       "50%     9900.000000    61.000000   63389.500000   110.000000   1600.00000   \n",
       "75%    11950.000000    70.000000   87020.750000   110.000000   1600.00000   \n",
       "max    32500.000000    80.000000  243000.000000   192.000000  16000.00000   \n",
       "\n",
       "             Doors        Gears  Quarterly_Tax      Weight  \n",
       "count  1436.000000  1436.000000    1436.000000  1436.00000  \n",
       "mean      4.033426     5.026462      87.122563  1072.45961  \n",
       "std       0.952677     0.188510      41.128611    52.64112  \n",
       "min       2.000000     3.000000      19.000000  1000.00000  \n",
       "25%       3.000000     5.000000      69.000000  1040.00000  \n",
       "50%       4.000000     5.000000      85.000000  1070.00000  \n",
       "75%       5.000000     5.000000      85.000000  1085.00000  \n",
       "max       5.000000     6.000000     283.000000  1615.00000  "
      ]
     },
     "execution_count": 32,
     "metadata": {},
     "output_type": "execute_result"
    }
   ],
   "source": [
    "data.describe(include='all')"
   ]
  },
  {
   "cell_type": "code",
   "execution_count": 38,
   "id": "b2de90fd",
   "metadata": {},
   "outputs": [
    {
     "data": {
      "text/plain": [
       "1"
      ]
     },
     "execution_count": 38,
     "metadata": {},
     "output_type": "execute_result"
    }
   ],
   "source": [
    "data.duplicated().sum()"
   ]
  },
  {
   "cell_type": "code",
   "execution_count": 37,
   "id": "519c365f",
   "metadata": {},
   "outputs": [
    {
     "data": {
      "text/html": [
       "<div>\n",
       "<style scoped>\n",
       "    .dataframe tbody tr th:only-of-type {\n",
       "        vertical-align: middle;\n",
       "    }\n",
       "\n",
       "    .dataframe tbody tr th {\n",
       "        vertical-align: top;\n",
       "    }\n",
       "\n",
       "    .dataframe thead th {\n",
       "        text-align: right;\n",
       "    }\n",
       "</style>\n",
       "<table border=\"1\" class=\"dataframe\">\n",
       "  <thead>\n",
       "    <tr style=\"text-align: right;\">\n",
       "      <th></th>\n",
       "      <th>Price</th>\n",
       "      <th>Age_08_04</th>\n",
       "      <th>KM</th>\n",
       "      <th>HP</th>\n",
       "      <th>cc</th>\n",
       "      <th>Doors</th>\n",
       "      <th>Gears</th>\n",
       "      <th>Quarterly_Tax</th>\n",
       "      <th>Weight</th>\n",
       "    </tr>\n",
       "  </thead>\n",
       "  <tbody>\n",
       "    <tr>\n",
       "      <th>113</th>\n",
       "      <td>24950</td>\n",
       "      <td>8</td>\n",
       "      <td>13253</td>\n",
       "      <td>116</td>\n",
       "      <td>2000</td>\n",
       "      <td>5</td>\n",
       "      <td>5</td>\n",
       "      <td>234</td>\n",
       "      <td>1320</td>\n",
       "    </tr>\n",
       "  </tbody>\n",
       "</table>\n",
       "</div>"
      ],
      "text/plain": [
       "     Price  Age_08_04     KM   HP    cc  Doors  Gears  Quarterly_Tax  Weight\n",
       "113  24950          8  13253  116  2000      5      5            234    1320"
      ]
     },
     "execution_count": 37,
     "metadata": {},
     "output_type": "execute_result"
    }
   ],
   "source": [
    "data[data.duplicated]"
   ]
  },
  {
   "cell_type": "code",
   "execution_count": 39,
   "id": "40fc653c",
   "metadata": {},
   "outputs": [
    {
     "name": "stderr",
     "output_type": "stream",
     "text": [
      "C:\\Users\\Rathnavel\\AppData\\Local\\Temp\\ipykernel_2196\\2282015914.py:1: SettingWithCopyWarning: \n",
      "A value is trying to be set on a copy of a slice from a DataFrame\n",
      "\n",
      "See the caveats in the documentation: https://pandas.pydata.org/pandas-docs/stable/user_guide/indexing.html#returning-a-view-versus-a-copy\n",
      "  data.drop_duplicates(inplace=True)\n"
     ]
    }
   ],
   "source": [
    "data.drop_duplicates(inplace=True)"
   ]
  },
  {
   "cell_type": "code",
   "execution_count": 40,
   "id": "d4cde07a",
   "metadata": {},
   "outputs": [
    {
     "data": {
      "text/html": [
       "<div>\n",
       "<style scoped>\n",
       "    .dataframe tbody tr th:only-of-type {\n",
       "        vertical-align: middle;\n",
       "    }\n",
       "\n",
       "    .dataframe tbody tr th {\n",
       "        vertical-align: top;\n",
       "    }\n",
       "\n",
       "    .dataframe thead th {\n",
       "        text-align: right;\n",
       "    }\n",
       "</style>\n",
       "<table border=\"1\" class=\"dataframe\">\n",
       "  <thead>\n",
       "    <tr style=\"text-align: right;\">\n",
       "      <th></th>\n",
       "      <th>Price</th>\n",
       "      <th>Age_08_04</th>\n",
       "      <th>KM</th>\n",
       "      <th>HP</th>\n",
       "      <th>cc</th>\n",
       "      <th>Doors</th>\n",
       "      <th>Gears</th>\n",
       "      <th>Quarterly_Tax</th>\n",
       "      <th>Weight</th>\n",
       "    </tr>\n",
       "  </thead>\n",
       "  <tbody>\n",
       "  </tbody>\n",
       "</table>\n",
       "</div>"
      ],
      "text/plain": [
       "Empty DataFrame\n",
       "Columns: [Price, Age_08_04, KM, HP, cc, Doors, Gears, Quarterly_Tax, Weight]\n",
       "Index: []"
      ]
     },
     "execution_count": 40,
     "metadata": {},
     "output_type": "execute_result"
    }
   ],
   "source": [
    "data[data.duplicated]"
   ]
  },
  {
   "cell_type": "code",
   "execution_count": 41,
   "id": "89d56df2",
   "metadata": {},
   "outputs": [
    {
     "data": {
      "text/plain": [
       "0"
      ]
     },
     "execution_count": 41,
     "metadata": {},
     "output_type": "execute_result"
    }
   ],
   "source": [
    "data.duplicated().sum()"
   ]
  },
  {
   "cell_type": "code",
   "execution_count": 43,
   "id": "03886e95",
   "metadata": {},
   "outputs": [
    {
     "data": {
      "text/plain": [
       "(1435, 9)"
      ]
     },
     "execution_count": 43,
     "metadata": {},
     "output_type": "execute_result"
    }
   ],
   "source": [
    "data.shape"
   ]
  },
  {
   "cell_type": "code",
   "execution_count": 44,
   "id": "6e2a1cae",
   "metadata": {},
   "outputs": [],
   "source": [
    "ft = data.drop('Price', axis = 1)"
   ]
  },
  {
   "cell_type": "code",
   "execution_count": 50,
   "id": "8acc04a8",
   "metadata": {},
   "outputs": [
    {
     "data": {
      "text/plain": [
       "(1435, 8)"
      ]
     },
     "execution_count": 50,
     "metadata": {},
     "output_type": "execute_result"
    }
   ],
   "source": [
    "ft.shape"
   ]
  },
  {
   "cell_type": "code",
   "execution_count": 51,
   "id": "664c029c",
   "metadata": {},
   "outputs": [],
   "source": [
    "tt = data['Price']"
   ]
  },
  {
   "cell_type": "code",
   "execution_count": 52,
   "id": "b64060a0",
   "metadata": {},
   "outputs": [
    {
     "data": {
      "text/plain": [
       "(1435,)"
      ]
     },
     "execution_count": 52,
     "metadata": {},
     "output_type": "execute_result"
    }
   ],
   "source": [
    "tt.reshap"
   ]
  },
  {
   "cell_type": "code",
   "execution_count": 53,
   "id": "d6e37deb",
   "metadata": {},
   "outputs": [],
   "source": [
    "std_scale = StandardScaler()"
   ]
  },
  {
   "cell_type": "code",
   "execution_count": 54,
   "id": "51330aff",
   "metadata": {},
   "outputs": [],
   "source": [
    "ft = std_scale.fit_transform(ft)"
   ]
  },
  {
   "cell_type": "code",
   "execution_count": 59,
   "id": "f0e80f25",
   "metadata": {},
   "outputs": [
    {
     "data": {
      "text/plain": [
       "(1435, 8)"
      ]
     },
     "execution_count": 59,
     "metadata": {},
     "output_type": "execute_result"
    }
   ],
   "source": [
    "ft.shape"
   ]
  },
  {
   "cell_type": "code",
   "execution_count": 64,
   "id": "3ba39417",
   "metadata": {},
   "outputs": [],
   "source": [
    "x_train,x_test,y_train,y_test= train_test_split(ft,tt,train_size=0.75,random_state=70)"
   ]
  },
  {
   "cell_type": "code",
   "execution_count": 65,
   "id": "eaebfb5c",
   "metadata": {},
   "outputs": [
    {
     "name": "stdout",
     "output_type": "stream",
     "text": [
      "(1076, 8)\n",
      "(1076,)\n",
      "(359, 8)\n",
      "(359,)\n"
     ]
    }
   ],
   "source": [
    "print(x_train.shape)\n",
    "print(y_train.shape)\n",
    "print(x_test.shape)\n",
    "print(y_test.shape)"
   ]
  },
  {
   "cell_type": "code",
   "execution_count": 66,
   "id": "fe06f77d",
   "metadata": {},
   "outputs": [],
   "source": [
    "linmodel = LinearRegression()"
   ]
  },
  {
   "cell_type": "code",
   "execution_count": 67,
   "id": "9f48c4e9",
   "metadata": {},
   "outputs": [
    {
     "data": {
      "text/html": [
       "<style>#sk-container-id-1 {color: black;}#sk-container-id-1 pre{padding: 0;}#sk-container-id-1 div.sk-toggleable {background-color: white;}#sk-container-id-1 label.sk-toggleable__label {cursor: pointer;display: block;width: 100%;margin-bottom: 0;padding: 0.3em;box-sizing: border-box;text-align: center;}#sk-container-id-1 label.sk-toggleable__label-arrow:before {content: \"▸\";float: left;margin-right: 0.25em;color: #696969;}#sk-container-id-1 label.sk-toggleable__label-arrow:hover:before {color: black;}#sk-container-id-1 div.sk-estimator:hover label.sk-toggleable__label-arrow:before {color: black;}#sk-container-id-1 div.sk-toggleable__content {max-height: 0;max-width: 0;overflow: hidden;text-align: left;background-color: #f0f8ff;}#sk-container-id-1 div.sk-toggleable__content pre {margin: 0.2em;color: black;border-radius: 0.25em;background-color: #f0f8ff;}#sk-container-id-1 input.sk-toggleable__control:checked~div.sk-toggleable__content {max-height: 200px;max-width: 100%;overflow: auto;}#sk-container-id-1 input.sk-toggleable__control:checked~label.sk-toggleable__label-arrow:before {content: \"▾\";}#sk-container-id-1 div.sk-estimator input.sk-toggleable__control:checked~label.sk-toggleable__label {background-color: #d4ebff;}#sk-container-id-1 div.sk-label input.sk-toggleable__control:checked~label.sk-toggleable__label {background-color: #d4ebff;}#sk-container-id-1 input.sk-hidden--visually {border: 0;clip: rect(1px 1px 1px 1px);clip: rect(1px, 1px, 1px, 1px);height: 1px;margin: -1px;overflow: hidden;padding: 0;position: absolute;width: 1px;}#sk-container-id-1 div.sk-estimator {font-family: monospace;background-color: #f0f8ff;border: 1px dotted black;border-radius: 0.25em;box-sizing: border-box;margin-bottom: 0.5em;}#sk-container-id-1 div.sk-estimator:hover {background-color: #d4ebff;}#sk-container-id-1 div.sk-parallel-item::after {content: \"\";width: 100%;border-bottom: 1px solid gray;flex-grow: 1;}#sk-container-id-1 div.sk-label:hover label.sk-toggleable__label {background-color: #d4ebff;}#sk-container-id-1 div.sk-serial::before {content: \"\";position: absolute;border-left: 1px solid gray;box-sizing: border-box;top: 0;bottom: 0;left: 50%;z-index: 0;}#sk-container-id-1 div.sk-serial {display: flex;flex-direction: column;align-items: center;background-color: white;padding-right: 0.2em;padding-left: 0.2em;position: relative;}#sk-container-id-1 div.sk-item {position: relative;z-index: 1;}#sk-container-id-1 div.sk-parallel {display: flex;align-items: stretch;justify-content: center;background-color: white;position: relative;}#sk-container-id-1 div.sk-item::before, #sk-container-id-1 div.sk-parallel-item::before {content: \"\";position: absolute;border-left: 1px solid gray;box-sizing: border-box;top: 0;bottom: 0;left: 50%;z-index: -1;}#sk-container-id-1 div.sk-parallel-item {display: flex;flex-direction: column;z-index: 1;position: relative;background-color: white;}#sk-container-id-1 div.sk-parallel-item:first-child::after {align-self: flex-end;width: 50%;}#sk-container-id-1 div.sk-parallel-item:last-child::after {align-self: flex-start;width: 50%;}#sk-container-id-1 div.sk-parallel-item:only-child::after {width: 0;}#sk-container-id-1 div.sk-dashed-wrapped {border: 1px dashed gray;margin: 0 0.4em 0.5em 0.4em;box-sizing: border-box;padding-bottom: 0.4em;background-color: white;}#sk-container-id-1 div.sk-label label {font-family: monospace;font-weight: bold;display: inline-block;line-height: 1.2em;}#sk-container-id-1 div.sk-label-container {text-align: center;}#sk-container-id-1 div.sk-container {/* jupyter's `normalize.less` sets `[hidden] { display: none; }` but bootstrap.min.css set `[hidden] { display: none !important; }` so we also need the `!important` here to be able to override the default hidden behavior on the sphinx rendered scikit-learn.org. See: https://github.com/scikit-learn/scikit-learn/issues/21755 */display: inline-block !important;position: relative;}#sk-container-id-1 div.sk-text-repr-fallback {display: none;}</style><div id=\"sk-container-id-1\" class=\"sk-top-container\"><div class=\"sk-text-repr-fallback\"><pre>LinearRegression()</pre><b>In a Jupyter environment, please rerun this cell to show the HTML representation or trust the notebook. <br />On GitHub, the HTML representation is unable to render, please try loading this page with nbviewer.org.</b></div><div class=\"sk-container\" hidden><div class=\"sk-item\"><div class=\"sk-estimator sk-toggleable\"><input class=\"sk-toggleable__control sk-hidden--visually\" id=\"sk-estimator-id-1\" type=\"checkbox\" checked><label for=\"sk-estimator-id-1\" class=\"sk-toggleable__label sk-toggleable__label-arrow\">LinearRegression</label><div class=\"sk-toggleable__content\"><pre>LinearRegression()</pre></div></div></div></div></div>"
      ],
      "text/plain": [
       "LinearRegression()"
      ]
     },
     "execution_count": 67,
     "metadata": {},
     "output_type": "execute_result"
    }
   ],
   "source": [
    "linmodel.fit(x_train,y_train)"
   ]
  },
  {
   "cell_type": "code",
   "execution_count": 68,
   "id": "b352e2d0",
   "metadata": {},
   "outputs": [
    {
     "data": {
      "text/plain": [
       "array([10885.91885979,  9204.05607326,  8883.92035585, 13547.54811021,\n",
       "        7437.53090995,  9777.74224487,  6144.56088146, 10657.28874978,\n",
       "       10379.63923385, 10317.58280052, 18929.85365032, 12157.53916986,\n",
       "       12906.69656865, 11007.38945279, 13736.91777823, 10928.48033496,\n",
       "       12170.80261662,  7524.65880836, 13729.62437973,  9937.11314382,\n",
       "       18338.25165919,  9550.26976264, 12017.81914586, 10824.49875992,\n",
       "       15976.08636002,  7897.52769506,  9253.18220936, 10287.68673593,\n",
       "       12777.67862164,  9423.59344106,  8672.38875865,  7875.0258679 ,\n",
       "        9733.915476  , 12888.34091176,  9534.33388728, 16156.8201235 ,\n",
       "       18242.27770109,  8665.20180905,  7811.33493553,  9248.45275899,\n",
       "       19214.87425372,  8307.19946384,  7699.96221248, 10761.04929546,\n",
       "        6897.24387502,  7682.23284424,  8005.42368854,  8896.318946  ,\n",
       "       18816.60118108,  6245.20287918,  9025.55653573, 18168.56162429,\n",
       "       10507.35356067,  6481.96011584, 11187.80033929,  8610.29339663,\n",
       "        9182.65812482, 13214.13952144, 15962.84289881,  9583.30593418,\n",
       "        7583.66207609, 10048.7364107 ,  8588.4586719 , 13267.14325447,\n",
       "       11600.04375493, 12136.86627603,  9426.52702727, 10024.87232597,\n",
       "        6374.90516727,  5932.51609846, 15421.29473387, 13134.26972864,\n",
       "        9859.91126168,  5717.86535974,  7740.3900329 , 19054.89011248,\n",
       "       11891.99158358, 12827.70130851, 11486.81152937, 10005.45439682,\n",
       "       12371.30371911,  4713.74128716, 15454.61017335,  8851.97409181,\n",
       "       10304.22926372, 10254.49969522,  7317.89310836,  8953.28875455,\n",
       "        7104.15610686, 15235.83348592,  8464.10259243, 11337.018648  ,\n",
       "       12344.2541489 ,  7193.50807974,  9427.40271236, 12876.90392235,\n",
       "        6916.22806098, 11955.85226619, 11852.9120184 , 12335.16952227,\n",
       "        8032.72395501,  9382.76249088,  8307.4700936 ,  9904.18954774,\n",
       "        8586.85542128, 10145.44181393,  7816.97815813,  7844.22108272,\n",
       "       10605.18961815,  7819.69626797, 17167.19979492, 18065.40112486,\n",
       "        5721.31633544,  9799.40907572, 17060.68339752, 15464.90075706,\n",
       "        8339.15708939,  7969.21737567, 12827.39585521, 21653.30755601,\n",
       "        8823.95996941, 13372.96808363, 15252.63869978, 11646.36293313,\n",
       "       11285.74487058, 10059.29777133,  7143.63166885, 12245.7403956 ,\n",
       "       12948.9514543 ,  8924.60569619, 11695.75271628,  9330.54679913,\n",
       "        9685.1292491 , 10360.77653188, 15861.03932213,  6885.25231326,\n",
       "       10475.42625509, 13954.82995202,  8798.72781021,  8649.91579756,\n",
       "        8990.23442152, 11388.92122261, 10062.25491651, 17864.79585907,\n",
       "        9677.58216875, 10518.41771188,  9420.91044503,  8386.79418832,\n",
       "       20596.61650815, 10315.61174051, 18835.80752655,  9953.57214883,\n",
       "       15685.33898837, 11300.08144474,  7313.6887523 ,  8823.33147054,\n",
       "       13530.19885068,  7683.39653187, 13323.07922443, 10041.82120724,\n",
       "       10117.77846155,  9460.62881633,  9965.39630549,  6625.07373743,\n",
       "        8635.82392684, 10819.00143751, 10314.73612746,  7728.71720952,\n",
       "       26935.98798582,  6493.32808659,  9076.34806931,  7183.71773202,\n",
       "       17928.58980214, 11199.94675322, 12628.96409275,  7424.01153988,\n",
       "       17558.61382729, 16573.1548416 , 12803.43631017, 19752.15912826,\n",
       "        9300.92397097, 12513.65630381, 11620.26580318,  8374.76480823,\n",
       "        9546.38311296,  9181.14299593, 11688.7671359 , 12837.21908788,\n",
       "        8559.99863647, 14252.94724573,  8647.70856973, 16160.94434527,\n",
       "        9083.06664014,  8440.66445366,  9555.77300196,  7823.42849687,\n",
       "       10913.36535645, 18268.49969379,  8491.24337565, 10671.06177436,\n",
       "        8947.40121452, 11036.62127019,  5557.18025929,  8330.22470527,\n",
       "        7504.24732044, 11355.82095068, 10316.13914461,  9901.18459598,\n",
       "        8620.45191598,  6811.71148587, 13999.83276421,  7504.10479819,\n",
       "       12294.94560436, 18128.24555107, 10997.71728445, 13184.0332183 ,\n",
       "       11990.10885745,  8179.36100629, 11905.08447398, 13840.31660622,\n",
       "        9139.95361603,  8198.26326464, 17376.10621704,  8869.87357982,\n",
       "       15743.0743738 , 13207.71973151,  5919.53083548,  9208.64359263,\n",
       "        6741.03443233, 11332.05292127,  8168.19087389, 16090.04302867,\n",
       "       18061.49449194, 10765.09079156,  8143.97347247, 17083.52788087,\n",
       "       10000.77876482,  6706.83445373,  8349.07350426,  9547.13297082,\n",
       "        8419.51335388, 13263.57263128,  7668.48677974, 10606.89634721,\n",
       "        7558.4664632 , 11455.6134804 ,  9528.49744212,  7377.47857798,\n",
       "        9426.1927528 ,  7833.7399312 , 11930.52538327, 10078.73833445,\n",
       "        8092.94430634, 18027.20051769,  8979.03653497, 11246.56425723,\n",
       "       21359.79403594, 11736.79238994, 13960.87073662, 13035.00635633,\n",
       "       13233.23245475, 10807.7861921 ,  6935.15225421, 10595.77547508,\n",
       "        9383.64348668, 12839.56038263, 13943.64380742,  8910.41014088,\n",
       "       13111.66136878, 11074.38844287, 17101.36938566, 12688.66119164,\n",
       "       22902.70326911, 11661.84289316,  8618.18747242, 11649.62001102,\n",
       "        6417.06234495, 11530.09595039,  8165.39823389,  9308.28366029,\n",
       "       13235.08311713, 10512.84166602,  8463.84919355,  7478.12856243,\n",
       "       10652.25340299,  8802.08737885,  8233.14979035,  5663.54043733,\n",
       "        9677.50196508, 11992.64098997,  8160.82790328, 10191.09135743,\n",
       "       11357.0889674 , 13554.80848748,  8785.60924002,  8720.03073962,\n",
       "        8264.69137386, 12750.44478813,  8515.35495999,  7952.27694733,\n",
       "       12853.40944426, 14527.25990399, 18752.85185178,  5997.56287333,\n",
       "        9632.60959717, 10896.36453876,  8939.31589716, 13131.03777728,\n",
       "       10248.69233881,  9012.64191333, 13173.95762786,  9837.3838242 ,\n",
       "        8462.202444  , 15974.2862187 , 11538.37743145,  7405.54475603,\n",
       "       11651.47703054,  9824.86654199, 10291.91973164, 16239.45984342,\n",
       "        8878.33986399,  7647.19757492,  7838.00419942, 11574.748419  ,\n",
       "        9319.09044515, 11290.14250791, 10565.52608534, 14498.02001284,\n",
       "       19946.53271736,  8137.7122795 ,  7906.89739603,  9606.67950952,\n",
       "        9376.03276341,  9153.90987223,  9743.28014221, 15494.70067602,\n",
       "       16365.09599003,  7811.89774447, 10014.6996237 ,  7203.66339678,\n",
       "       17036.43855752, 16214.10080064,  9970.14753827,  9395.58128232,\n",
       "       13008.09645079,  8375.89833756,  8520.0033647 ,  7306.36624849,\n",
       "       11124.75957717, 11503.67316654, 13250.29317585, 10970.94230892,\n",
       "        8923.3892571 ,  9651.77626162,  8421.62366677,  9230.9619789 ,\n",
       "        9367.77810184,  7673.18390558,  9179.84891867])"
      ]
     },
     "execution_count": 68,
     "metadata": {},
     "output_type": "execute_result"
    }
   ],
   "source": [
    "ypred = linmodel.predict(x_test)\n",
    "ypred"
   ]
  },
  {
   "cell_type": "code",
   "execution_count": 70,
   "id": "330d86f3",
   "metadata": {},
   "outputs": [
    {
     "data": {
      "text/plain": [
       "0.8301485971821285"
      ]
     },
     "execution_count": 70,
     "metadata": {},
     "output_type": "execute_result"
    }
   ],
   "source": [
    "modelscore = linmodel.score(x_test,y_test)\n",
    "modelscore"
   ]
  },
  {
   "cell_type": "code",
   "execution_count": 85,
   "id": "5c27cc8c",
   "metadata": {},
   "outputs": [
    {
     "data": {
      "text/plain": [
       "0.8301485971821285"
      ]
     },
     "execution_count": 85,
     "metadata": {},
     "output_type": "execute_result"
    }
   ],
   "source": [
    "r2score = r2_score(y_test,ypred)\n",
    "r2score"
   ]
  },
  {
   "cell_type": "code",
   "execution_count": 86,
   "id": "4fffb170",
   "metadata": {},
   "outputs": [
    {
     "data": {
      "text/plain": [
       "<Axes: xlabel='Price'>"
      ]
     },
     "execution_count": 86,
     "metadata": {},
     "output_type": "execute_result"
    },
    {
     "data": {
      "image/png": "[encoded data removed]",
      "text/plain": [
       "<Figure size 640x480 with 1 Axes>"
      ]
     },
     "metadata": {},
     "output_type": "display_data"
    }
   ],
   "source": [
    "sns.regplot(data=data,x=y_test,y=ypred,scatter_kws={'color':'red'},line_kws={'color':'green'})"
   ]
  },
  {
   "cell_type": "code",
   "execution_count": 92,
   "id": "17941dc5",
   "metadata": {},
   "outputs": [
    {
     "name": "stdout",
     "output_type": "stream",
     "text": [
      "The r^2 value is 0.8301485971821285\n",
      "The model score is 0.8301485971821285\n",
      "The ypredict values are [10885.91885979  9204.05607326  8883.92035585 13547.54811021\n",
      "  7437.53090995  9777.74224487  6144.56088146 10657.28874978\n",
      " 10379.63923385 10317.58280052 18929.85365032 12157.53916986\n",
      " 12906.69656865 11007.38945279 13736.91777823 10928.48033496\n",
      " 12170.80261662  7524.65880836 13729.62437973  9937.11314382\n",
      " 18338.25165919  9550.26976264 12017.81914586 10824.49875992\n",
      " 15976.08636002  7897.52769506  9253.18220936 10287.68673593\n",
      " 12777.67862164  9423.59344106  8672.38875865  7875.0258679\n",
      "  9733.915476   12888.34091176  9534.33388728 16156.8201235\n",
      " 18242.27770109  8665.20180905  7811.33493553  9248.45275899\n",
      " 19214.87425372  8307.19946384  7699.96221248 10761.04929546\n",
      "  6897.24387502  7682.23284424  8005.42368854  8896.318946\n",
      " 18816.60118108  6245.20287918  9025.55653573 18168.56162429\n",
      " 10507.35356067  6481.96011584 11187.80033929  8610.29339663\n",
      "  9182.65812482 13214.13952144 15962.84289881  9583.30593418\n",
      "  7583.66207609 10048.7364107   8588.4586719  13267.14325447\n",
      " 11600.04375493 12136.86627603  9426.52702727 10024.87232597\n",
      "  6374.90516727  5932.51609846 15421.29473387 13134.26972864\n",
      "  9859.91126168  5717.86535974  7740.3900329  19054.89011248\n",
      " 11891.99158358 12827.70130851 11486.81152937 10005.45439682\n",
      " 12371.30371911  4713.74128716 15454.61017335  8851.97409181\n",
      " 10304.22926372 10254.49969522  7317.89310836  8953.28875455\n",
      "  7104.15610686 15235.83348592  8464.10259243 11337.018648\n",
      " 12344.2541489   7193.50807974  9427.40271236 12876.90392235\n",
      "  6916.22806098 11955.85226619 11852.9120184  12335.16952227\n",
      "  8032.72395501  9382.76249088  8307.4700936   9904.18954774\n",
      "  8586.85542128 10145.44181393  7816.97815813  7844.22108272\n",
      " 10605.18961815  7819.69626797 17167.19979492 18065.40112486\n",
      "  5721.31633544  9799.40907572 17060.68339752 15464.90075706\n",
      "  8339.15708939  7969.21737567 12827.39585521 21653.30755601\n",
      "  8823.95996941 13372.96808363 15252.63869978 11646.36293313\n",
      " 11285.74487058 10059.29777133  7143.63166885 12245.7403956\n",
      " 12948.9514543   8924.60569619 11695.75271628  9330.54679913\n",
      "  9685.1292491  10360.77653188 15861.03932213  6885.25231326\n",
      " 10475.42625509 13954.82995202  8798.72781021  8649.91579756\n",
      "  8990.23442152 11388.92122261 10062.25491651 17864.79585907\n",
      "  9677.58216875 10518.41771188  9420.91044503  8386.79418832\n",
      " 20596.61650815 10315.61174051 18835.80752655  9953.57214883\n",
      " 15685.33898837 11300.08144474  7313.6887523   8823.33147054\n",
      " 13530.19885068  7683.39653187 13323.07922443 10041.82120724\n",
      " 10117.77846155  9460.62881633  9965.39630549  6625.07373743\n",
      "  8635.82392684 10819.00143751 10314.73612746  7728.71720952\n",
      " 26935.98798582  6493.32808659  9076.34806931  7183.71773202\n",
      " 17928.58980214 11199.94675322 12628.96409275  7424.01153988\n",
      " 17558.61382729 16573.1548416  12803.43631017 19752.15912826\n",
      "  9300.92397097 12513.65630381 11620.26580318  8374.76480823\n",
      "  9546.38311296  9181.14299593 11688.7671359  12837.21908788\n",
      "  8559.99863647 14252.94724573  8647.70856973 16160.94434527\n",
      "  9083.06664014  8440.66445366  9555.77300196  7823.42849687\n",
      " 10913.36535645 18268.49969379  8491.24337565 10671.06177436\n",
      "  8947.40121452 11036.62127019  5557.18025929  8330.22470527\n",
      "  7504.24732044 11355.82095068 10316.13914461  9901.18459598\n",
      "  8620.45191598  6811.71148587 13999.83276421  7504.10479819\n",
      " 12294.94560436 18128.24555107 10997.71728445 13184.0332183\n",
      " 11990.10885745  8179.36100629 11905.08447398 13840.31660622\n",
      "  9139.95361603  8198.26326464 17376.10621704  8869.87357982\n",
      " 15743.0743738  13207.71973151  5919.53083548  9208.64359263\n",
      "  6741.03443233 11332.05292127  8168.19087389 16090.04302867\n",
      " 18061.49449194 10765.09079156  8143.97347247 17083.52788087\n",
      " 10000.77876482  6706.83445373  8349.07350426  9547.13297082\n",
      "  8419.51335388 13263.57263128  7668.48677974 10606.89634721\n",
      "  7558.4664632  11455.6134804   9528.49744212  7377.47857798\n",
      "  9426.1927528   7833.7399312  11930.52538327 10078.73833445\n",
      "  8092.94430634 18027.20051769  8979.03653497 11246.56425723\n",
      " 21359.79403594 11736.79238994 13960.87073662 13035.00635633\n",
      " 13233.23245475 10807.7861921   6935.15225421 10595.77547508\n",
      "  9383.64348668 12839.56038263 13943.64380742  8910.41014088\n",
      " 13111.66136878 11074.38844287 17101.36938566 12688.66119164\n",
      " 22902.70326911 11661.84289316  8618.18747242 11649.62001102\n",
      "  6417.06234495 11530.09595039  8165.39823389  9308.28366029\n",
      " 13235.08311713 10512.84166602  8463.84919355  7478.12856243\n",
      " 10652.25340299  8802.08737885  8233.14979035  5663.54043733\n",
      "  9677.50196508 11992.64098997  8160.82790328 10191.09135743\n",
      " 11357.0889674  13554.80848748  8785.60924002  8720.03073962\n",
      "  8264.69137386 12750.44478813  8515.35495999  7952.27694733\n",
      " 12853.40944426 14527.25990399 18752.85185178  5997.56287333\n",
      "  9632.60959717 10896.36453876  8939.31589716 13131.03777728\n",
      " 10248.69233881  9012.64191333 13173.95762786  9837.3838242\n",
      "  8462.202444   15974.2862187  11538.37743145  7405.54475603\n",
      " 11651.47703054  9824.86654199 10291.91973164 16239.45984342\n",
      "  8878.33986399  7647.19757492  7838.00419942 11574.748419\n",
      "  9319.09044515 11290.14250791 10565.52608534 14498.02001284\n",
      " 19946.53271736  8137.7122795   7906.89739603  9606.67950952\n",
      "  9376.03276341  9153.90987223  9743.28014221 15494.70067602\n",
      " 16365.09599003  7811.89774447 10014.6996237   7203.66339678\n",
      " 17036.43855752 16214.10080064  9970.14753827  9395.58128232\n",
      " 13008.09645079  8375.89833756  8520.0033647   7306.36624849\n",
      " 11124.75957717 11503.67316654 13250.29317585 10970.94230892\n",
      "  8923.3892571   9651.77626162  8421.62366677  9230.9619789\n",
      "  9367.77810184  7673.18390558  9179.84891867]\n"
     ]
    }
   ],
   "source": [
    "print(f\"The r^2 value is {r2score}\")\n",
    "print(f\"The model score is {modelscore}\")\n",
    "print(f\"The ypredict values are {ypred}\")"
   ]
  },
  {
   "cell_type": "code",
   "execution_count": null,
   "id": "03aaad34",
   "metadata": {},
   "outputs": [],
   "source": []
  }
 ],
 "metadata": {
  "kernelspec": {
   "display_name": "Python 3 (ipykernel)",
   "language": "python",
   "name": "python3"
  },
  "language_info": {
   "codemirror_mode": {
    "name": "ipython",
    "version": 3
   },
   "file_extension": ".py",
   "mimetype": "text/x-python",
   "name": "python",
   "nbconvert_exporter": "python",
   "pygments_lexer": "ipython3",
   "version": "3.11.4"
  }
 },
 "nbformat": 4,
 "nbformat_minor": 5
}
